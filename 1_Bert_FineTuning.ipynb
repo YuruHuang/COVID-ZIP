{
  "nbformat": 4,
  "nbformat_minor": 0,
  "metadata": {
    "colab": {
      "name": "1. Bert_FineTuning.ipynb",
      "provenance": [],
      "authorship_tag": "ABX9TyMV3kz+9LuE6TphcAQ5TqeU",
      "include_colab_link": true
    },
    "kernelspec": {
      "name": "python3",
      "display_name": "Python 3"
    },
    "language_info": {
      "name": "python"
    },
    "accelerator": "GPU"
  },
  "cells": [
    {
      "cell_type": "markdown",
      "metadata": {
        "id": "view-in-github",
        "colab_type": "text"
      },
      "source": [
        "<a href=\"https://colab.research.google.com/github/YuruHuang/COVID-ZIP/blob/master/1_Bert_FineTuning.ipynb\" target=\"_parent\"><img src=\"https://colab.research.google.com/assets/colab-badge.svg\" alt=\"Open In Colab\"/></a>"
      ]
    },
    {
      "cell_type": "markdown",
      "metadata": {
        "id": "l5fUnHr_7hlP"
      },
      "source": [
        "The purpose of this experiment is to use the state-of-art Natural Language Processing model BERT. We will fine tune the model using our custom data and see if the model performance improves. \n",
        "\n",
        "> We will unfreeze some of the top layers for fine-tuning \n",
        "\n"
      ]
    },
    {
      "cell_type": "markdown",
      "metadata": {
        "id": "NgNY2fL78-HZ"
      },
      "source": [
        "# Data pre-processing\n",
        "\n"
      ]
    },
    {
      "cell_type": "code",
      "metadata": {
        "colab": {
          "base_uri": "https://localhost:8080/",
          "height": 479
        },
        "id": "aWSWWQWC9AcJ",
        "outputId": "8f896413-ccce-4ec2-dc07-8fb271da8a55"
      },
      "source": [
        "# read in the data \n",
        "import pandas as pd\n",
        "from sklearn.model_selection import train_test_split\n",
        "justeat_menu = pd.read_csv('JustEat_extracted_211021.csv')\n",
        "justeat_menu.head()"
      ],
      "execution_count": null,
      "outputs": [
        {
          "output_type": "execute_result",
          "data": {
            "text/html": [
              "<div>\n",
              "<style scoped>\n",
              "    .dataframe tbody tr th:only-of-type {\n",
              "        vertical-align: middle;\n",
              "    }\n",
              "\n",
              "    .dataframe tbody tr th {\n",
              "        vertical-align: top;\n",
              "    }\n",
              "\n",
              "    .dataframe thead th {\n",
              "        text-align: right;\n",
              "    }\n",
              "</style>\n",
              "<table border=\"1\" class=\"dataframe\">\n",
              "  <thead>\n",
              "    <tr style=\"text-align: right;\">\n",
              "      <th></th>\n",
              "      <th>Restaurant ID</th>\n",
              "      <th>Desserts</th>\n",
              "      <th>Vegetables</th>\n",
              "      <th>Salads</th>\n",
              "      <th>Chips</th>\n",
              "      <th>Water</th>\n",
              "      <th>Milk</th>\n",
              "      <th>Special Offers</th>\n",
              "      <th>rest_name</th>\n",
              "      <th>n_reviews</th>\n",
              "      <th>average_review</th>\n",
              "      <th>item_price_mean</th>\n",
              "      <th>item_price_median</th>\n",
              "      <th>n_items</th>\n",
              "      <th>url</th>\n",
              "      <th>cuisine</th>\n",
              "      <th>address</th>\n",
              "      <th>postcode</th>\n",
              "      <th>postcode_district</th>\n",
              "      <th>specialOffers</th>\n",
              "      <th>chips</th>\n",
              "      <th>salads</th>\n",
              "      <th>predict</th>\n",
              "      <th>rating2</th>\n",
              "      <th>review</th>\n",
              "    </tr>\n",
              "  </thead>\n",
              "  <tbody>\n",
              "    <tr>\n",
              "      <th>0</th>\n",
              "      <td>80603</td>\n",
              "      <td>0</td>\n",
              "      <td>5</td>\n",
              "      <td>2</td>\n",
              "      <td>11</td>\n",
              "      <td>1</td>\n",
              "      <td>0</td>\n",
              "      <td>5</td>\n",
              "      <td>Pasha Kebabs &amp; Pizzas</td>\n",
              "      <td>View 551 reviews</td>\n",
              "      <td>5.06 stars out of 6.</td>\n",
              "      <td>6.037634</td>\n",
              "      <td>7.000</td>\n",
              "      <td>93</td>\n",
              "      <td>URL</td>\n",
              "      <td>Kebab,Pizza,Halal</td>\n",
              "      <td>25 Windmill Brae, Aberdeen, AB11 6HU</td>\n",
              "      <td>AB11 6HU</td>\n",
              "      <td>AB11</td>\n",
              "      <td>5</td>\n",
              "      <td>11</td>\n",
              "      <td>2</td>\n",
              "      <td>5.504342</td>\n",
              "      <td>1</td>\n",
              "      <td>551.0</td>\n",
              "    </tr>\n",
              "    <tr>\n",
              "      <th>1</th>\n",
              "      <td>71703</td>\n",
              "      <td>7</td>\n",
              "      <td>10</td>\n",
              "      <td>2</td>\n",
              "      <td>14</td>\n",
              "      <td>0</td>\n",
              "      <td>0</td>\n",
              "      <td>4</td>\n",
              "      <td>Paco's Tacos</td>\n",
              "      <td>View 2314 reviews</td>\n",
              "      <td>4.65 stars out of 6.</td>\n",
              "      <td>5.431358</td>\n",
              "      <td>4.450</td>\n",
              "      <td>162</td>\n",
              "      <td>URL</td>\n",
              "      <td>Mexican,American</td>\n",
              "      <td>42-44 Market Street, Aberdeenshire, AB11 5PL</td>\n",
              "      <td>AB11 5PL</td>\n",
              "      <td>AB11</td>\n",
              "      <td>4</td>\n",
              "      <td>14</td>\n",
              "      <td>2</td>\n",
              "      <td>5.010865</td>\n",
              "      <td>0</td>\n",
              "      <td>2314.0</td>\n",
              "    </tr>\n",
              "    <tr>\n",
              "      <th>2</th>\n",
              "      <td>6885</td>\n",
              "      <td>0</td>\n",
              "      <td>16</td>\n",
              "      <td>12</td>\n",
              "      <td>1</td>\n",
              "      <td>0</td>\n",
              "      <td>0</td>\n",
              "      <td>2</td>\n",
              "      <td>Dil Se</td>\n",
              "      <td>View 1392 reviews</td>\n",
              "      <td>5.19 stars out of 6.</td>\n",
              "      <td>7.473418</td>\n",
              "      <td>8.225</td>\n",
              "      <td>158</td>\n",
              "      <td>URL</td>\n",
              "      <td>Indian,Curry</td>\n",
              "      <td>Unit 8, The Green Berrymuir Road, Portlethen, ...</td>\n",
              "      <td>AB12 4UN</td>\n",
              "      <td>AB12</td>\n",
              "      <td>2</td>\n",
              "      <td>1</td>\n",
              "      <td>12</td>\n",
              "      <td>9.355489</td>\n",
              "      <td>4</td>\n",
              "      <td>1392.0</td>\n",
              "    </tr>\n",
              "    <tr>\n",
              "      <th>3</th>\n",
              "      <td>122605</td>\n",
              "      <td>5</td>\n",
              "      <td>10</td>\n",
              "      <td>6</td>\n",
              "      <td>44</td>\n",
              "      <td>0</td>\n",
              "      <td>0</td>\n",
              "      <td>1</td>\n",
              "      <td>Mannofield Pizza Grill and Kebab</td>\n",
              "      <td>View 386 reviews</td>\n",
              "      <td>5.16 stars out of 6.</td>\n",
              "      <td>8.069737</td>\n",
              "      <td>7.700</td>\n",
              "      <td>152</td>\n",
              "      <td>URL</td>\n",
              "      <td>Pizza,Kebab</td>\n",
              "      <td>483a Great Western Road, Aberdeen, AB10 6NN</td>\n",
              "      <td>AB10 6NN</td>\n",
              "      <td>AB10</td>\n",
              "      <td>1</td>\n",
              "      <td>15</td>\n",
              "      <td>6</td>\n",
              "      <td>5.642945</td>\n",
              "      <td>1</td>\n",
              "      <td>386.0</td>\n",
              "    </tr>\n",
              "    <tr>\n",
              "      <th>4</th>\n",
              "      <td>44832</td>\n",
              "      <td>0</td>\n",
              "      <td>16</td>\n",
              "      <td>2</td>\n",
              "      <td>1</td>\n",
              "      <td>0</td>\n",
              "      <td>0</td>\n",
              "      <td>2</td>\n",
              "      <td>Lasan Healthy Indian Brasserie</td>\n",
              "      <td>View 595 reviews</td>\n",
              "      <td>5.04 stars out of 6.</td>\n",
              "      <td>6.877143</td>\n",
              "      <td>4.500</td>\n",
              "      <td>105</td>\n",
              "      <td>URL</td>\n",
              "      <td>Indian,Healthy</td>\n",
              "      <td>Unit 2 Westhill Drive, Westhill, Aberdeenshire...</td>\n",
              "      <td>AB32 6FS</td>\n",
              "      <td>AB32</td>\n",
              "      <td>2</td>\n",
              "      <td>1</td>\n",
              "      <td>2</td>\n",
              "      <td>8.357649</td>\n",
              "      <td>3</td>\n",
              "      <td>595.0</td>\n",
              "    </tr>\n",
              "  </tbody>\n",
              "</table>\n",
              "</div>"
            ],
            "text/plain": [
              "   Restaurant ID  Desserts  Vegetables  ...   predict  rating2  review\n",
              "0          80603         0           5  ...  5.504342        1   551.0\n",
              "1          71703         7          10  ...  5.010865        0  2314.0\n",
              "2           6885         0          16  ...  9.355489        4  1392.0\n",
              "3         122605         5          10  ...  5.642945        1   386.0\n",
              "4          44832         0          16  ...  8.357649        3   595.0\n",
              "\n",
              "[5 rows x 25 columns]"
            ]
          },
          "metadata": {},
          "execution_count": 10
        }
      ]
    },
    {
      "cell_type": "markdown",
      "metadata": {
        "id": "k5k5Yql4A9Ym"
      },
      "source": [
        "BERT on tensorflow hub has a matching preprocessing model! No text cleaning processing needed. However, there are restaurants with duplicated names. For those restaurants with exactly the same name, we will calculate the **average menu healthiness** for them. "
      ]
    },
    {
      "cell_type": "code",
      "metadata": {
        "colab": {
          "base_uri": "https://localhost:8080/",
          "height": 204
        },
        "id": "rNFn-hpYBV4O",
        "outputId": "a9705a88-9db9-45ce-edca-0db85f27faf0"
      },
      "source": [
        "# Examples of restaurants with the same name \n",
        "counts = justeat_menu.groupby('rest_name').size().reset_index(name='counts')\n",
        "counts[counts.counts>10].head()"
      ],
      "execution_count": null,
      "outputs": [
        {
          "output_type": "execute_result",
          "data": {
            "text/html": [
              "<div>\n",
              "<style scoped>\n",
              "    .dataframe tbody tr th:only-of-type {\n",
              "        vertical-align: middle;\n",
              "    }\n",
              "\n",
              "    .dataframe tbody tr th {\n",
              "        vertical-align: top;\n",
              "    }\n",
              "\n",
              "    .dataframe thead th {\n",
              "        text-align: right;\n",
              "    }\n",
              "</style>\n",
              "<table border=\"1\" class=\"dataframe\">\n",
              "  <thead>\n",
              "    <tr style=\"text-align: right;\">\n",
              "      <th></th>\n",
              "      <th>rest_name</th>\n",
              "      <th>counts</th>\n",
              "    </tr>\n",
              "  </thead>\n",
              "  <tbody>\n",
              "    <tr>\n",
              "      <th>1024</th>\n",
              "      <td>Ali Baba</td>\n",
              "      <td>11</td>\n",
              "    </tr>\n",
              "    <tr>\n",
              "      <th>1742</th>\n",
              "      <td>Aroma</td>\n",
              "      <td>11</td>\n",
              "    </tr>\n",
              "    <tr>\n",
              "      <th>3176</th>\n",
              "      <td>Bella Pizza</td>\n",
              "      <td>21</td>\n",
              "    </tr>\n",
              "    <tr>\n",
              "      <th>3294</th>\n",
              "      <td>Bengal Spice</td>\n",
              "      <td>27</td>\n",
              "    </tr>\n",
              "    <tr>\n",
              "      <th>3402</th>\n",
              "      <td>Best Kebab</td>\n",
              "      <td>23</td>\n",
              "    </tr>\n",
              "  </tbody>\n",
              "</table>\n",
              "</div>"
            ],
            "text/plain": [
              "         rest_name  counts\n",
              "1024      Ali Baba      11\n",
              "1742         Aroma      11\n",
              "3176   Bella Pizza      21\n",
              "3294  Bengal Spice      27\n",
              "3402    Best Kebab      23"
            ]
          },
          "metadata": {},
          "execution_count": 14
        }
      ]
    },
    {
      "cell_type": "code",
      "metadata": {
        "colab": {
          "base_uri": "https://localhost:8080/",
          "height": 359
        },
        "id": "O2X3TdMH9Sxw",
        "outputId": "3dcc13c1-18f0-47b4-e495-c53055476b3e"
      },
      "source": [
        "# calculate means\n",
        "justeat_df = justeat_menu[['rest_name','predict']].groupby('rest_name').mean().reset_index()\n",
        "justeat_df[3990:4000]"
      ],
      "execution_count": null,
      "outputs": [
        {
          "output_type": "execute_result",
          "data": {
            "text/html": [
              "<div>\n",
              "<style scoped>\n",
              "    .dataframe tbody tr th:only-of-type {\n",
              "        vertical-align: middle;\n",
              "    }\n",
              "\n",
              "    .dataframe tbody tr th {\n",
              "        vertical-align: top;\n",
              "    }\n",
              "\n",
              "    .dataframe thead th {\n",
              "        text-align: right;\n",
              "    }\n",
              "</style>\n",
              "<table border=\"1\" class=\"dataframe\">\n",
              "  <thead>\n",
              "    <tr style=\"text-align: right;\">\n",
              "      <th></th>\n",
              "      <th>rest_name</th>\n",
              "      <th>predict</th>\n",
              "    </tr>\n",
              "  </thead>\n",
              "  <tbody>\n",
              "    <tr>\n",
              "      <th>3990</th>\n",
              "      <td>Blue Circle Fish Bar</td>\n",
              "      <td>5.489235</td>\n",
              "    </tr>\n",
              "    <tr>\n",
              "      <th>3991</th>\n",
              "      <td>Blue Cobra</td>\n",
              "      <td>9.346789</td>\n",
              "    </tr>\n",
              "    <tr>\n",
              "      <th>3992</th>\n",
              "      <td>Blue Coral</td>\n",
              "      <td>6.626736</td>\n",
              "    </tr>\n",
              "    <tr>\n",
              "      <th>3993</th>\n",
              "      <td>Blue Crown Takeaway</td>\n",
              "      <td>5.729776</td>\n",
              "    </tr>\n",
              "    <tr>\n",
              "      <th>3994</th>\n",
              "      <td>Blue Diamond Chinese Restaurant</td>\n",
              "      <td>6.941602</td>\n",
              "    </tr>\n",
              "    <tr>\n",
              "      <th>3995</th>\n",
              "      <td>Blue Dolphin</td>\n",
              "      <td>5.538320</td>\n",
              "    </tr>\n",
              "    <tr>\n",
              "      <th>3996</th>\n",
              "      <td>Blue Dragon</td>\n",
              "      <td>5.072141</td>\n",
              "    </tr>\n",
              "    <tr>\n",
              "      <th>3997</th>\n",
              "      <td>Blue Elephant</td>\n",
              "      <td>7.572564</td>\n",
              "    </tr>\n",
              "    <tr>\n",
              "      <th>3998</th>\n",
              "      <td>Blue Elephant Aberdeen</td>\n",
              "      <td>8.035936</td>\n",
              "    </tr>\n",
              "    <tr>\n",
              "      <th>3999</th>\n",
              "      <td>Blue Eye Turkish Grill House</td>\n",
              "      <td>7.620525</td>\n",
              "    </tr>\n",
              "  </tbody>\n",
              "</table>\n",
              "</div>"
            ],
            "text/plain": [
              "                            rest_name   predict\n",
              "3990             Blue Circle Fish Bar  5.489235\n",
              "3991                       Blue Cobra  9.346789\n",
              "3992                       Blue Coral  6.626736\n",
              "3993              Blue Crown Takeaway  5.729776\n",
              "3994  Blue Diamond Chinese Restaurant  6.941602\n",
              "3995                     Blue Dolphin  5.538320\n",
              "3996                      Blue Dragon  5.072141\n",
              "3997                    Blue Elephant  7.572564\n",
              "3998           Blue Elephant Aberdeen  8.035936\n",
              "3999     Blue Eye Turkish Grill House  7.620525"
            ]
          },
          "metadata": {},
          "execution_count": 21
        }
      ]
    },
    {
      "cell_type": "markdown",
      "metadata": {
        "id": "VMhVCEPJDB5F"
      },
      "source": [
        "Train test split time! 🎨"
      ]
    },
    {
      "cell_type": "code",
      "metadata": {
        "id": "PalwGLitDWHx"
      },
      "source": [
        "X_train, X_test, y_train, y_test = train_test_split(justeat_df.rest_name, justeat_df.predict, test_size=0.1, random_state=42)"
      ],
      "execution_count": null,
      "outputs": []
    },
    {
      "cell_type": "code",
      "metadata": {
        "id": "XZaVHksUDef-"
      },
      "source": [
        "X_train, X_val, y_train, y_val = train_test_split(X_train, y_train, test_size=0.1, random_state=68)"
      ],
      "execution_count": null,
      "outputs": []
    },
    {
      "cell_type": "markdown",
      "metadata": {
        "id": "DzUYRzZk8Jxw"
      },
      "source": [
        "# Model 0 BERT (frozen)\n",
        "\n"
      ]
    },
    {
      "cell_type": "code",
      "metadata": {
        "id": "1vREQBeu7cWc"
      },
      "source": [
        "#!pip install tensorflow-text\n",
        "import tensorflow_text as text\n",
        "import tensorflow_hub as hub\n",
        "import tensorflow as tf\n",
        "\n",
        "preprocessor = hub.KerasLayer(\n",
        "    \"https://tfhub.dev/tensorflow/bert_en_uncased_preprocess/3\")"
      ],
      "execution_count": null,
      "outputs": []
    },
    {
      "cell_type": "code",
      "metadata": {
        "colab": {
          "base_uri": "https://localhost:8080/"
        },
        "id": "0jLu_JgoD9sV",
        "outputId": "720408c2-999b-422a-ee27-d9952688e01b"
      },
      "source": [
        "# An example of how the preprocessor converts a restaurant name to a tensor input for BERT model \n",
        "preprocessor(['Yuru Chinese Takeaway'])"
      ],
      "execution_count": null,
      "outputs": [
        {
          "output_type": "execute_result",
          "data": {
            "text/plain": [
              "{'input_mask': <tf.Tensor: shape=(1, 128), dtype=int32, numpy=\n",
              " array([[1, 1, 1, 1, 1, 1, 1, 0, 0, 0, 0, 0, 0, 0, 0, 0, 0, 0, 0, 0, 0, 0,\n",
              "         0, 0, 0, 0, 0, 0, 0, 0, 0, 0, 0, 0, 0, 0, 0, 0, 0, 0, 0, 0, 0, 0,\n",
              "         0, 0, 0, 0, 0, 0, 0, 0, 0, 0, 0, 0, 0, 0, 0, 0, 0, 0, 0, 0, 0, 0,\n",
              "         0, 0, 0, 0, 0, 0, 0, 0, 0, 0, 0, 0, 0, 0, 0, 0, 0, 0, 0, 0, 0, 0,\n",
              "         0, 0, 0, 0, 0, 0, 0, 0, 0, 0, 0, 0, 0, 0, 0, 0, 0, 0, 0, 0, 0, 0,\n",
              "         0, 0, 0, 0, 0, 0, 0, 0, 0, 0, 0, 0, 0, 0, 0, 0, 0, 0]],\n",
              "       dtype=int32)>,\n",
              " 'input_type_ids': <tf.Tensor: shape=(1, 128), dtype=int32, numpy=\n",
              " array([[0, 0, 0, 0, 0, 0, 0, 0, 0, 0, 0, 0, 0, 0, 0, 0, 0, 0, 0, 0, 0, 0,\n",
              "         0, 0, 0, 0, 0, 0, 0, 0, 0, 0, 0, 0, 0, 0, 0, 0, 0, 0, 0, 0, 0, 0,\n",
              "         0, 0, 0, 0, 0, 0, 0, 0, 0, 0, 0, 0, 0, 0, 0, 0, 0, 0, 0, 0, 0, 0,\n",
              "         0, 0, 0, 0, 0, 0, 0, 0, 0, 0, 0, 0, 0, 0, 0, 0, 0, 0, 0, 0, 0, 0,\n",
              "         0, 0, 0, 0, 0, 0, 0, 0, 0, 0, 0, 0, 0, 0, 0, 0, 0, 0, 0, 0, 0, 0,\n",
              "         0, 0, 0, 0, 0, 0, 0, 0, 0, 0, 0, 0, 0, 0, 0, 0, 0, 0]],\n",
              "       dtype=int32)>,\n",
              " 'input_word_ids': <tf.Tensor: shape=(1, 128), dtype=int32, numpy=\n",
              " array([[ 101, 9805, 6820, 2822, 2202, 9497,  102,    0,    0,    0,    0,\n",
              "            0,    0,    0,    0,    0,    0,    0,    0,    0,    0,    0,\n",
              "            0,    0,    0,    0,    0,    0,    0,    0,    0,    0,    0,\n",
              "            0,    0,    0,    0,    0,    0,    0,    0,    0,    0,    0,\n",
              "            0,    0,    0,    0,    0,    0,    0,    0,    0,    0,    0,\n",
              "            0,    0,    0,    0,    0,    0,    0,    0,    0,    0,    0,\n",
              "            0,    0,    0,    0,    0,    0,    0,    0,    0,    0,    0,\n",
              "            0,    0,    0,    0,    0,    0,    0,    0,    0,    0,    0,\n",
              "            0,    0,    0,    0,    0,    0,    0,    0,    0,    0,    0,\n",
              "            0,    0,    0,    0,    0,    0,    0,    0,    0,    0,    0,\n",
              "            0,    0,    0,    0,    0,    0,    0,    0,    0,    0,    0,\n",
              "            0,    0,    0,    0,    0,    0,    0]], dtype=int32)>}"
            ]
          },
          "metadata": {},
          "execution_count": 29
        }
      ]
    },
    {
      "cell_type": "code",
      "metadata": {
        "id": "4WLQzo6QFT2J"
      },
      "source": [
        "def build_model():\n",
        "  text_input = tf.keras.layers.Input(shape=(), dtype=tf.string, name='text')\n",
        "  preprocessing_layer = hub.KerasLayer(preprocessor, name='preprocessing')\n",
        "  encoder_inputs = preprocessing_layer(text_input)\n",
        "  encoder = hub.KerasLayer(\n",
        "    \"https://tfhub.dev/tensorflow/bert_en_uncased_L-12_H-768_A-12/4\", name = 'BERT_encoder')\n",
        "  outputs = encoder(encoder_inputs)\n",
        "  net = outputs['pooled_output']\n",
        "  net = tf.keras.layers.Dropout(0.1)(net)\n",
        "  net = tf.keras.layers.Dense(64, activation='relu')(net)\n",
        "  net = tf.keras.layers.Dense(1, activation=None, name='regression_output')(net)\n",
        "  return tf.keras.Model(text_input, net)"
      ],
      "execution_count": null,
      "outputs": []
    },
    {
      "cell_type": "code",
      "metadata": {
        "id": "Si09tONhJoFi"
      },
      "source": [
        "model_0 =  build_model()"
      ],
      "execution_count": null,
      "outputs": []
    },
    {
      "cell_type": "code",
      "metadata": {
        "colab": {
          "base_uri": "https://localhost:8080/",
          "height": 564
        },
        "id": "TKC4_UsbKDN0",
        "outputId": "4d115583-a712-46ae-d208-e94a0f2e64ce"
      },
      "source": [
        "tf.keras.utils.plot_model(model_0)"
      ],
      "execution_count": null,
      "outputs": [
        {
          "output_type": "execute_result",
          "data": {
            "image/png": "[encoded data removed]",
            "text/plain": [
              "<IPython.core.display.Image object>"
            ]
          },
          "metadata": {},
          "execution_count": 36
        }
      ]
    },
    {
      "cell_type": "code",
      "metadata": {
        "id": "Me-RRL2QKQGl"
      },
      "source": [
        "model_0.compile(loss=\"mean_squared_error\",\n",
        "                optimizer=tf.keras.optimizers.Adam(),\n",
        "                metrics = ['mae','mean_absolute_percentage_error'])"
      ],
      "execution_count": null,
      "outputs": []
    },
    {
      "cell_type": "code",
      "metadata": {
        "colab": {
          "base_uri": "https://localhost:8080/"
        },
        "id": "KL_O9pWhKbgS",
        "outputId": "2ae454f9-9938-4b3a-8ed8-b519971f4c24"
      },
      "source": [
        "model_0_history = model_0.fit(X_train, y_train, epochs=20, validation_data = (X_val, y_val))"
      ],
      "execution_count": null,
      "outputs": [
        {
          "output_type": "stream",
          "name": "stdout",
          "text": [
            "Epoch 1/20\n",
            "1187/1187 [==============================] - 828s 694ms/step - loss: 2.0779 - mae: 1.0966 - mean_absolute_percentage_error: 24.1185 - val_loss: 1.8886 - val_mae: 1.0514 - val_mean_absolute_percentage_error: 22.1452\n",
            "Epoch 2/20\n",
            "1187/1187 [==============================] - 825s 695ms/step - loss: 1.8743 - mae: 1.0493 - mean_absolute_percentage_error: 23.3046 - val_loss: 1.8569 - val_mae: 1.0323 - val_mean_absolute_percentage_error: 22.2868\n",
            "Epoch 3/20\n",
            "1187/1187 [==============================] - 821s 691ms/step - loss: 1.8289 - mae: 1.0334 - mean_absolute_percentage_error: 23.0053 - val_loss: 1.7735 - val_mae: 1.0083 - val_mean_absolute_percentage_error: 21.9784\n",
            "Epoch 4/20\n",
            "1187/1187 [==============================] - 821s 692ms/step - loss: 1.8187 - mae: 1.0317 - mean_absolute_percentage_error: 22.8479 - val_loss: 1.7613 - val_mae: 1.0036 - val_mean_absolute_percentage_error: 21.9619\n",
            "Epoch 5/20\n",
            "1187/1187 [==============================] - 817s 689ms/step - loss: 1.8073 - mae: 1.0287 - mean_absolute_percentage_error: 22.8475 - val_loss: 1.8593 - val_mae: 1.0278 - val_mean_absolute_percentage_error: 23.3700\n",
            "Epoch 6/20\n",
            "1169/1187 [============================>.] - ETA: 11s - loss: 1.7953 - mae: 1.0249 - mean_absolute_percentage_error: 22.8106"
          ]
        }
      ]
    },
    {
      "cell_type": "markdown",
      "metadata": {
        "id": "BJHQolhsKslZ"
      },
      "source": [
        "# Model 1 BERT Fine tuning \n",
        "\n",
        "Bert Base model uses 12 layers of transformers block "
      ]
    }
  ]
}